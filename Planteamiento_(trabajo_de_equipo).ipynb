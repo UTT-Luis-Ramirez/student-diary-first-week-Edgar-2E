{
  "nbformat": 4,
  "nbformat_minor": 0,
  "metadata": {
    "colab": {
      "provenance": []
    },
    "kernelspec": {
      "name": "python3",
      "display_name": "Python 3"
    },
    "language_info": {
      "name": "python"
    }
  },
  "cells": [
    {
      "cell_type": "code",
      "execution_count": null,
      "metadata": {
        "id": "DMi1nB4oSEaV"
      },
      "outputs": [],
      "source": []
    },
    {
      "cell_type": "markdown",
      "source": [
        "A mi equipo nos toco el Analizis del comportamiento de un usuario, ver como podemos satisfacer sus necesidades y que se puede hacer para mejorar su experiencia en una pagina.\n",
        "\n",
        "Una de las maneras de ver su comportamiento es mediante de las cookies. Para eso se deben aceptar y eso estudia el comportamiento del usuario en la pagina, como cuanto tiempo duro dentro de esta, o si se quedo mas tiempo en una seccion de la pagina.\n",
        "\n",
        "Otro Metodo es mediante encuestas, pueden ser esas encuestas de youtube que te preguntan sobre tu experiencia con los anuncios, si ha sido buena o mala. Hablando de los anuncios, en algunos hay un icono de signo de interrogacion en algunos de ellos, esto es para preguntar el porque de este anuncio, te manda una mini encuesta de el porque te molesta, ya sea por ser repetitivo o nada mas porque no te gusto."
      ],
      "metadata": {
        "id": "QGZmg5T2SIoK"
      }
    }
  ]
}