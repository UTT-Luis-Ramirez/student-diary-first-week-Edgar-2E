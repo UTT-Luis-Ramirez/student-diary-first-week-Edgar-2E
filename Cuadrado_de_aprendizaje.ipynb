{
  "nbformat": 4,
  "nbformat_minor": 0,
  "metadata": {
    "colab": {
      "provenance": []
    },
    "kernelspec": {
      "name": "python3",
      "display_name": "Python 3"
    },
    "language_info": {
      "name": "python"
    }
  },
  "cells": [
    {
      "cell_type": "code",
      "execution_count": null,
      "metadata": {
        "id": "7NAafz4UVdJD"
      },
      "outputs": [],
      "source": []
    },
    {
      "cell_type": "markdown",
      "source": [
        "*Termino:*\n",
        "- Estadistica\n",
        "- Dato\n",
        "- Teoria de conjuntos\n",
        "- Axiomas\n",
        "- Probabilidad\n",
        "- Elementos\n",
        "\n",
        "*¿Que se?*\n",
        "\n",
        "- Estadistica: es una rama de las matematicas, que se encarga de organizar y recolectar datos, pueden ser datos.\n",
        "\n",
        "- Dato: es un valor, una porcion de informacion.\n",
        "\n",
        "- Teoria de conjuntos: es otra rama de las matematicas, pero esta se encarga de estudiar las propiedades de los conjuntos, como colecciones abstractas.\n",
        "\n",
        "- Axiomas: segun yo, es algo que es demasiado obvio que no se necesita admitir.\n",
        "\n",
        "- Probabilidad: es aquello puede pasar o no dependiendo de la situacion.\n",
        "\n",
        "- Elementos: son una parte o un integrante de algo.\n",
        "\n",
        "\n",
        "*¿Que Deseo Saber?*\n",
        "\n",
        "*¿Que vi?*"
      ],
      "metadata": {
        "id": "CX4CCOBnItyU"
      }
    },
    {
      "cell_type": "markdown",
      "source": [],
      "metadata": {
        "id": "-KiGJctCVkAC"
      }
    }
  ]
}